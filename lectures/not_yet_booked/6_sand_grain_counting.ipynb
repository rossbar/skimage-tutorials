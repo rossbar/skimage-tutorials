{
 "cells": [
  {
   "cell_type": "markdown",
   "id": "8a2fab46",
   "metadata": {},
   "source": [
    "## Counting grains and bubbles\n",
    "\n",
    "This Scanning Element Microscopy image shows a glass sample\n",
    "(light gray matrix) with some bubbles (black) and unmolten\n",
    "sand grains (dark gray). We wish to determine the fraction\n",
    "of the sample covered by these three phases,\n",
    "and to estimate the number of sand grains and bubbles,\n",
    "their average sizes, etc."
   ]
  },
  {
   "cell_type": "markdown",
   "id": "757280ac",
   "metadata": {},
   "source": [
    "### Loading the slide"
   ]
  },
  {
   "cell_type": "code",
   "execution_count": null,
   "id": "f07ec4b4",
   "metadata": {},
   "outputs": [],
   "source": [
    "%matplotlib inline\n",
    "import numpy as np\n",
    "\n",
    "import matplotlib\n",
    "matplotlib.rcParams['image.interpolation'] = 'nearest'\n",
    "matplotlib.rcParams['image.cmap'] = 'viridis'\n",
    "matplotlib.rcParams['figure.figsize'] = (10, 7)"
   ]
  },
  {
   "cell_type": "code",
   "execution_count": null,
   "id": "d78e55a0",
   "metadata": {},
   "outputs": [],
   "source": [
    "from skimage import io\n",
    "from matplotlib import pyplot as plt\n",
    "\n",
    "img = io.imread('../images/bubbles.jpg')\n",
    "\n",
    "plt.imshow(img, cmap=plt.cm.gray, interpolation='nearest');"
   ]
  },
  {
   "cell_type": "markdown",
   "id": "b0085c4f",
   "metadata": {},
   "source": [
    "### Remove banner"
   ]
  },
  {
   "cell_type": "code",
   "execution_count": null,
   "id": "7ccf9e24",
   "metadata": {},
   "outputs": [],
   "source": [
    "img_clean = img[:880, :]\n",
    "plt.imshow(img_clean, cmap=plt.cm.gray, interpolation='nearest');"
   ]
  },
  {
   "cell_type": "markdown",
   "id": "3139db8b",
   "metadata": {},
   "source": [
    "### Filter to get rid of speckles"
   ]
  },
  {
   "cell_type": "code",
   "execution_count": null,
   "id": "f273b5d1",
   "metadata": {},
   "outputs": [],
   "source": [
    "import scipy.ndimage as ndi\n",
    "img_med = ndi.median_filter(img_clean, size=5)\n",
    "plt.imshow(img_med, cmap=plt.cm.gray, interpolation='nearest');"
   ]
  },
  {
   "cell_type": "markdown",
   "id": "ac96a6b1",
   "metadata": {},
   "source": [
    "### Find threshold values"
   ]
  },
  {
   "cell_type": "code",
   "execution_count": null,
   "id": "0f213a41",
   "metadata": {},
   "outputs": [],
   "source": [
    "plt.hist(img_med.flatten(), bins=40, range=(0, 150));"
   ]
  },
  {
   "cell_type": "markdown",
   "id": "3b8cdb89",
   "metadata": {},
   "source": [
    "### Separate layers by thresholding"
   ]
  },
  {
   "cell_type": "code",
   "execution_count": null,
   "id": "fadb302b",
   "metadata": {},
   "outputs": [],
   "source": [
    "bubbles = (img_med <= 50)\n",
    "sand = (img_med > 50) & (img_med <= 120)\n",
    "glass = (img_med > 120)\n",
    "\n",
    "def plot_images(cmap=plt.cm.gray):\n",
    "    for n, (name, image) in \\\n",
    "        enumerate([('Original', img_med),\n",
    "                   ('Bubbles', bubbles),\n",
    "                   ('Sand', sand),\n",
    "                   ('Glass', glass)]):\n",
    "    \n",
    "        plt.subplot(2, 2, n + 1)\n",
    "        plt.imshow(image, cmap=cmap)\n",
    "        plt.title(name)\n",
    "        plt.axis('off')\n",
    "        \n",
    "plot_images();"
   ]
  },
  {
   "cell_type": "markdown",
   "id": "ac01c73c",
   "metadata": {},
   "source": [
    "### Visualise layers"
   ]
  },
  {
   "cell_type": "code",
   "execution_count": null,
   "id": "87ee7a7c",
   "metadata": {},
   "outputs": [],
   "source": [
    "def plot_color_overlay():\n",
    "    all_layers = np.zeros((img_clean.shape[0],\n",
    "                           img_clean.shape[1], 3)) # Color image\n",
    "\n",
    "    # You shouldn't run this if bubbles isn't a mask\n",
    "    # -- otherwise, fancy indexing instead of masking\n",
    "    assert(bubbles.dtype == np.bool)\n",
    "    \n",
    "    all_layers[bubbles] = (1, 0, 0)\n",
    "    all_layers[sand] = (1, 1, 0)\n",
    "    all_layers[glass] = (0, 0, 1)\n",
    "\n",
    "    plt.imshow(all_layers)\n",
    "\n",
    "plot_color_overlay()"
   ]
  },
  {
   "cell_type": "markdown",
   "id": "e5fa8a01",
   "metadata": {},
   "source": [
    "### Clean up shapes found"
   ]
  },
  {
   "cell_type": "code",
   "execution_count": null,
   "id": "1607a73f",
   "metadata": {},
   "outputs": [],
   "source": [
    "for img in (sand, bubbles, glass):\n",
    "    img[:] = ndi.binary_opening(img, np.ones((5, 5)))\n",
    "    img[:] = ndi.binary_closing(img, np.ones((5, 5)))\n",
    "    \n",
    "plot_images()"
   ]
  },
  {
   "cell_type": "markdown",
   "id": "4dfccfac",
   "metadata": {},
   "source": [
    "### Label connected components"
   ]
  },
  {
   "cell_type": "code",
   "execution_count": null,
   "id": "57634a72",
   "metadata": {},
   "outputs": [],
   "source": [
    "# Convert to int so we can store the labels\n",
    "bubbles = bubbles.astype(int)\n",
    "sand = sand.astype(int)\n",
    "glass = glass.astype(int)\n",
    "\n",
    "for name, img in [('Sand', sand),\n",
    "                  ('Bubbles', bubbles),\n",
    "                  ('Glass', glass)]:\n",
    "    labels, count = ndi.label(img)\n",
    "    print('%s regions found in %s' % (count, name))\n",
    "    img[:] = labels\n",
    "    \n",
    "    obj_areas = [np.sum(labels == i) for \\\n",
    "                 i in range(1, labels.max())]\n",
    "    print(\"Mean obj area %d\" % np.mean(obj_areas))\n",
    "\n",
    "plot_images(cmap=plt.cm.spectral)"
   ]
  }
 ],
 "metadata": {
  "kernelspec": {
   "display_name": "Python 3",
   "language": "python",
   "name": "python3"
  }
 },
 "nbformat": 4,
 "nbformat_minor": 5
}
