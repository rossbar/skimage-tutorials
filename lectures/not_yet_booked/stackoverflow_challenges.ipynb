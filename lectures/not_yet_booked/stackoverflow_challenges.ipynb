{
 "cells": [
  {
   "cell_type": "markdown",
   "id": "dd34f9d4",
   "metadata": {},
   "source": [
    "# StackOverflow Problems"
   ]
  },
  {
   "cell_type": "markdown",
   "id": "533c01d5",
   "metadata": {},
   "source": [
    "### Real-world problems to test your skills on!"
   ]
  },
  {
   "cell_type": "code",
   "execution_count": null,
   "id": "fde743ad",
   "metadata": {},
   "outputs": [],
   "source": [
    "%matplotlib inline"
   ]
  },
  {
   "cell_type": "code",
   "execution_count": null,
   "id": "fa249b94",
   "metadata": {},
   "outputs": [],
   "source": [
    "import matplotlib.pyplot as plt\n",
    "import numpy as np\n",
    "from skimage import (filters, io, color, exposure, feature,\n",
    "                     segmentation, morphology, img_as_float)"
   ]
  },
  {
   "cell_type": "markdown",
   "id": "3d90fa4b",
   "metadata": {},
   "source": [
    "# Parameters of a pill\n",
    "\n",
    "(Based on StackOverflow http://stackoverflow.com/questions/28281742/fitting-a-circle-to-a-binary-image)\n",
    "\n",
    "<img src=\"../images/round_pill.jpg\" width=\"200px\" style=\"float: left; padding-right: 1em;\"/>\n",
    "Consider a pill from the [NLM Pill Image Recognition Pilot](http://pir.nlm.nih.gov/pilot/instructions.html) (``../images/round_pill.jpg``).  Fit a circle to the pill outline and compute its area.\n",
    "\n",
    "<div style=\"clear: both;\"></div>\n",
    "\n",
    "*Hints:*\n",
    "\n",
    "1. Equalize (``exposure.equalize_*``)\n",
    "2. Detect edges (``filter.canny`` or ``feature.canny``--depending on your version)\n",
    "3. Fit the ``CircleModel`` using ``measure.ransac``."
   ]
  },
  {
   "cell_type": "markdown",
   "id": "594b6d24",
   "metadata": {},
   "source": [
    "### Alternative: morphological snakes\n",
    "\n",
    "**NOTE**: this is expensive to compute, so may take a while to execute"
   ]
  },
  {
   "cell_type": "code",
   "execution_count": null,
   "id": "49f01784",
   "metadata": {},
   "outputs": [],
   "source": [
    "# Initial level set\n",
    "pill = color.rgb2gray(image)\n",
    "pill = restoration.denoise_nl_means(pill, multichannel=False)\n",
    "\n",
    "level_set = segmentation.circle_level_set(pill.shape, radius=200)\n",
    "ls = segmentation.morphological_chan_vese(pill, 80, init_level_set=level_set, smoothing=3)\n",
    "\n",
    "fig, ax = plt.subplots(1, 1, figsize=(8, 8))\n",
    "\n",
    "ax.imshow(pill, cmap=\"gray\")\n",
    "ax.set_axis_off()\n",
    "ax.contour(ls, [0.5], colors='r');"
   ]
  },
  {
   "cell_type": "markdown",
   "id": "4669a8cd",
   "metadata": {},
   "source": [
    "# Counting coins\n",
    "\n",
    "Based on StackOverflow http://stackoverflow.com/questions/28242274/count-number-of-objects-using-watershed-algorithm-scikit-image\n",
    "\n",
    "Consider the coins image from the scikit-image example dataset, shown below.\n",
    "Write a function to count the number of coins.\n",
    "\n",
    "The procedure outlined here is a bit simpler than in the notebook lecture (and works just fine!)\n",
    "\n",
    "<div style=\"clear: both;\"></div>\n",
    "\n",
    "*Hint:*\n",
    "\n",
    "1. Equalize\n",
    "2. Threshold (``filters.threshold_otsu``)\n",
    "3. Remove objects touching boundary (``segmentation.clear_border``)\n",
    "4. Apply morphological closing (``morphology.closing``)\n",
    "5. Remove small objects (``measure.regionprops``)\n",
    "6. Visualize (potentially using ``color.label2rgb``)"
   ]
  },
  {
   "cell_type": "code",
   "execution_count": null,
   "id": "bdebedad",
   "metadata": {},
   "outputs": [],
   "source": [
    "from skimage import data\n",
    "fig, ax = plt.subplots()\n",
    "ax.imshow(data.coins(), cmap='gray');"
   ]
  },
  {
   "cell_type": "markdown",
   "id": "9b2c01a5",
   "metadata": {},
   "source": [
    "# Snakes\n",
    "\n",
    "Based on https://stackoverflow.com/q/8686926/214686\n",
    "\n",
    "<img src=\"../images/snakes.png\" width=\"200px\" style=\"float: left; padding-right: 1em;\"/>\n",
    "\n",
    "Consider the zig-zaggy snakes on the left (``../images/snakes.png``).<br/>Write some code to find the begin- and end-points of each.\n",
    "\n",
    "<div style=\"clear: both;\"></div>\n",
    "\n",
    "*Hints:*\n",
    "\n",
    "1. Threshold the image to turn it into \"black and white\"\n",
    "2. Not all lines are a single pixel thick.  Use skeletonization to thin them out (``morphology.skeletonize``)\n",
    "3. Locate all snake endpoints (I used a combination of ``scipy.signal.convolve2d`` [find all points with only one neighbor], and ``np.logical_and`` [which of those points lie on the snake?] to do that, but there are many other ways)."
   ]
  },
  {
   "cell_type": "markdown",
   "id": "635be84b",
   "metadata": {},
   "source": [
    "# M&Ms\n",
    "\n",
    "How many blue M&Ms are there in this image (`../images/mm.jpg`)?\n",
    "\n",
    "<img src=\"../images/mm.jpg\" width=\"400px\"/>\n",
    "\n",
    "Steps:\n",
    "\n",
    "1. Denoise the image (using, e.g., `restoration.denoise_nl_means`)\n",
    "2. Calculate how far each pixel is away from pure blue\n",
    "3. Segment this distance map to give a \"pill mask\"\n",
    "4. Fill in any holes in that mask, using `scipy.ndimage.binary_fill_holes`\n",
    "5. Use watershed segmentation to split apart any M&Ms that were joined, as described in http://scikit-image.org/docs/dev/auto_examples/segmentation/plot_watershed.html\n",
    "\n",
    "*Alternative approach:*\n",
    "\n",
    "- http://scikit-image.org/docs/dev/user_guide/tutorial_segmentation.html"
   ]
  },
  {
   "cell_type": "markdown",
   "id": "0584916e",
   "metadata": {},
   "source": [
    "# Viscous fingers\n",
    "\n",
    "Based on StackOverflow: http://stackoverflow.com/questions/23121416/long-boundary-detection-in-a-noisy-image\n",
    "\n",
    "<img src=\"../images/fingers.png\" width=\"200px\" style=\"float: left; padding-right: 1em;\"/>\n",
    "\n",
    "Consider the fluid experiment on the right (`../images/fingers.png`).  Determine any kind of meaningful boundary in this noisy image.\n",
    "\n",
    "<div style=\"clear: both;\"></div>\n",
    "\n",
    "*Hints:*\n",
    "\n",
    "1. Convert to grayscale\n",
    "2. Try edge detection (``feature.canny``)\n",
    "3. If edge detection fails, denoising is needed (try ``restoration.denoise_tv_bregman``)\n",
    "4. Try edge detection (``feature.canny``)"
   ]
  }
 ],
 "metadata": {
  "kernelspec": {
   "display_name": "Python 3",
   "language": "python",
   "name": "python3"
  }
 },
 "nbformat": 4,
 "nbformat_minor": 5
}
