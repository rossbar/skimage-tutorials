{
 "cells": [
  {
   "cell_type": "code",
   "execution_count": null,
   "id": "ce6eb686",
   "metadata": {},
   "outputs": [],
   "source": [
    "from __future__ import division, print_function\n",
    "%matplotlib inline"
   ]
  },
  {
   "cell_type": "markdown",
   "id": "31c498e0",
   "metadata": {},
   "source": [
    "# Morphological operations\n",
    "\n",
    "Morphology is the study of shapes. In image processing, some simple operations can get you a long way. The first things to learn are *erosion* and *dilation*. In erosion, we look at a pixel’s local neighborhood and replace the value of that pixel with the minimum value of that neighborhood. In dilation, we instead choose the maximum."
   ]
  },
  {
   "cell_type": "code",
   "execution_count": null,
   "id": "332fc288",
   "metadata": {},
   "outputs": [],
   "source": [
    "import numpy as np\n",
    "from matplotlib import pyplot as plt, cm\n",
    "import skdemo\n",
    "plt.rcParams['image.cmap'] = 'cubehelix'\n",
    "plt.rcParams['image.interpolation'] = 'none'"
   ]
  },
  {
   "cell_type": "code",
   "execution_count": null,
   "id": "a4c59c6a",
   "metadata": {},
   "outputs": [],
   "source": [
    "image = np.array([[0, 0, 0, 0, 0, 0, 0],\n",
    "                  [0, 0, 0, 0, 0, 0, 0],\n",
    "                  [0, 0, 1, 1, 1, 0, 0],\n",
    "                  [0, 0, 1, 1, 1, 0, 0],\n",
    "                  [0, 0, 1, 1, 1, 0, 0],\n",
    "                  [0, 0, 0, 0, 0, 0, 0],\n",
    "                  [0, 0, 0, 0, 0, 0, 0]], dtype=np.uint8)\n",
    "plt.imshow(image)"
   ]
  },
  {
   "cell_type": "markdown",
   "id": "71deb1f3",
   "metadata": {},
   "source": [
    "The documentation for scikit-image's morphology module is\n",
    "[here](http://scikit-image.org/docs/0.10.x/api/skimage.morphology.html).\n",
    "\n",
    "Importantly, we must use a *structuring element*, which defines the local\n",
    "neighborhood of each pixel. To get every neighbor (up, down, left, right, and\n",
    "diagonals), use `morphology.square`; to avoid diagonals, use\n",
    "`morphology.diamond`:"
   ]
  },
  {
   "cell_type": "code",
   "execution_count": null,
   "id": "b07636f6",
   "metadata": {},
   "outputs": [],
   "source": [
    "from skimage import morphology\n",
    "sq = morphology.square(width=3)\n",
    "dia = morphology.diamond(radius=1)\n",
    "disk = morphology.disk(radius=30)\n",
    "skdemo.imshow_all(sq, dia, disk)"
   ]
  },
  {
   "cell_type": "markdown",
   "id": "9dd836be",
   "metadata": {},
   "source": [
    "The central value of the structuring element represents the pixel being considered, and the surrounding values are the neighbors: a 1 value means that pixel counts as a neighbor, while a 0 value does not. So:"
   ]
  },
  {
   "cell_type": "code",
   "execution_count": null,
   "id": "db46da88",
   "metadata": {},
   "outputs": [],
   "source": [
    "skdemo.imshow_all(image, morphology.erosion(image, sq), shape=(1, 2))"
   ]
  },
  {
   "cell_type": "markdown",
   "id": "63b8076d",
   "metadata": {},
   "source": [
    "and"
   ]
  },
  {
   "cell_type": "code",
   "execution_count": null,
   "id": "98183b3c",
   "metadata": {},
   "outputs": [],
   "source": [
    "skdemo.imshow_all(image, morphology.dilation(image, sq))"
   ]
  },
  {
   "cell_type": "markdown",
   "id": "7d644823",
   "metadata": {},
   "source": [
    "and"
   ]
  },
  {
   "cell_type": "code",
   "execution_count": null,
   "id": "91c21be9",
   "metadata": {},
   "outputs": [],
   "source": [
    "skdemo.imshow_all(image, morphology.dilation(image, dia))"
   ]
  },
  {
   "cell_type": "markdown",
   "id": "6c63fcf7",
   "metadata": {},
   "source": [
    "Erosion and dilation can be combined into two slightly more sophisticated operations, *opening* and *closing*. Here's an example:"
   ]
  },
  {
   "cell_type": "code",
   "execution_count": null,
   "id": "064e72bf",
   "metadata": {},
   "outputs": [],
   "source": [
    "image = np.array([[0, 0, 0, 0, 0, 0, 0, 0, 0, 0],\n",
    "                  [0, 0, 0, 0, 0, 0, 0, 0, 0, 0],\n",
    "                  [0, 0, 1, 1, 1, 1, 1, 1, 0, 0],\n",
    "                  [0, 0, 1, 1, 1, 1, 1, 1, 0, 0],\n",
    "                  [0, 0, 1, 1, 1, 1, 1, 1, 0, 0],\n",
    "                  [0, 0, 1, 1, 1, 0, 0, 1, 0, 0],\n",
    "                  [0, 0, 1, 1, 1, 0, 0, 1, 0, 0],\n",
    "                  [0, 0, 1, 1, 1, 0, 0, 1, 0, 0],\n",
    "                  [0, 0, 1, 1, 1, 1, 1, 1, 0, 0],\n",
    "                  [0, 0, 1, 1, 1, 1, 1, 1, 0, 0],\n",
    "                  [0, 0, 1, 1, 1, 1, 1, 1, 0, 0],\n",
    "                  [0, 0, 0, 0, 0, 0, 0, 0, 0, 0],\n",
    "                  [0, 0, 0, 0, 0, 0, 0, 0, 0, 0]], np.uint8)\n",
    "plt.imshow(image)"
   ]
  },
  {
   "cell_type": "markdown",
   "id": "40c118ca",
   "metadata": {},
   "source": [
    "What happens when run an erosion followed by a dilation of this image?\n",
    "\n",
    "What about the reverse?\n",
    "\n",
    "Try to imagine the operations in your head before trying them out below."
   ]
  },
  {
   "cell_type": "code",
   "execution_count": null,
   "id": "e8104740",
   "metadata": {},
   "outputs": [],
   "source": [
    "skdemo.imshow_all(image, morphology.opening(image, sq)) # erosion -> dilation"
   ]
  },
  {
   "cell_type": "code",
   "execution_count": null,
   "id": "a7b6b524",
   "metadata": {},
   "outputs": [],
   "source": [
    "skdemo.imshow_all(image, morphology.closing(image, sq)) # dilation -> erosion"
   ]
  },
  {
   "cell_type": "markdown",
   "id": "59b4ad5d",
   "metadata": {},
   "source": [
    "**Exercise**: use morphological operations to remove noise from a binary image."
   ]
  },
  {
   "cell_type": "code",
   "execution_count": null,
   "id": "5803c4fa",
   "metadata": {},
   "outputs": [],
   "source": [
    "from skimage import data, color\n",
    "hub = color.rgb2gray(data.hubble_deep_field()[350:450, 90:190])\n",
    "plt.imshow(hub)"
   ]
  },
  {
   "cell_type": "markdown",
   "id": "f1761a17",
   "metadata": {},
   "source": [
    "Remove the smaller objects to retrieve the large galaxy."
   ]
  },
  {
   "cell_type": "code",
   "execution_count": null,
   "id": "704787b6",
   "metadata": {},
   "outputs": [],
   "source": [
    "disk = morphology.disk(radius=8)\n",
    "gal = morphology.opening(hub, disk)\n",
    "plt.imshow(gal)\n",
    "skdemo.imshow_with_histogram(gal)"
   ]
  },
  {
   "cell_type": "code",
   "execution_count": null,
   "id": "52bf6706",
   "metadata": {},
   "outputs": [],
   "source": [
    "gal_selector = gal > 50\n",
    "# use numpy boolean indexing to estimate histogram\n",
    "# of brightness intensity on isolated galaxy\n",
    "skdemo.imshow_all(hub, gal_selector)\n",
    "f = plt.figure()\n",
    "plt.hist(hub[gal_selector], bins=50);"
   ]
  }
 ],
 "metadata": {
  "kernelspec": {
   "display_name": "Python 3",
   "language": "python",
   "name": "python3"
  }
 },
 "nbformat": 4,
 "nbformat_minor": 5
}
