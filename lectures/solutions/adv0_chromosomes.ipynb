{
 "cells": [
  {
   "cell_type": "code",
   "execution_count": null,
   "id": "a5c04b27",
   "metadata": {},
   "outputs": [],
   "source": [
    "from __future__ import division, print_function\n",
    "%matplotlib inline"
   ]
  },
  {
   "cell_type": "markdown",
   "id": "a6a60cbb",
   "metadata": {},
   "source": [
    "# Measuring chromatin fluorescence\n",
    "\n",
    "Goal: we want to quantify the amount of a particular protein (red fluorescence) localized on the centromeres (green) versus the rest of the chromosome (blue).\n",
    "\n",
    "![Chromosomes](images/chromosomes.jpg)\n",
    "\n",
    "The main challenge here is the uneven illumination, which makes isolating the chromosomes a struggle."
   ]
  },
  {
   "cell_type": "code",
   "execution_count": null,
   "id": "0bf431d1",
   "metadata": {},
   "outputs": [],
   "source": [
    "import numpy as np\n",
    "from matplotlib import cm, pyplot as plt\n",
    "import skdemo\n",
    "plt.rcParams['image.cmap'] = 'cubehelix'\n",
    "plt.rcParams['image.interpolation'] = 'none'"
   ]
  },
  {
   "cell_type": "code",
   "execution_count": null,
   "id": "9b4bf9a8",
   "metadata": {},
   "outputs": [],
   "source": [
    "from skimage import io\n",
    "image = io.imread('images/chromosomes.tif')\n",
    "skdemo.imshow_with_histogram(image)"
   ]
  },
  {
   "cell_type": "markdown",
   "id": "c7400732",
   "metadata": {},
   "source": [
    "Let's separate the channels so we can work on each individually."
   ]
  },
  {
   "cell_type": "code",
   "execution_count": null,
   "id": "40c7080e",
   "metadata": {},
   "outputs": [],
   "source": [
    "protein, centromeres, chromosomes = image.transpose((2, 0, 1))"
   ]
  },
  {
   "cell_type": "markdown",
   "id": "ec893e93",
   "metadata": {},
   "source": [
    "Getting the centromeres is easy because the signal is so clean:"
   ]
  },
  {
   "cell_type": "code",
   "execution_count": null,
   "id": "7db4cfd7",
   "metadata": {},
   "outputs": [],
   "source": [
    "from skimage.filter import threshold_otsu\n",
    "centromeres_binary = centromeres > threshold_otsu(centromeres)\n",
    "skdemo.imshow_all(centromeres, centromeres_binary)"
   ]
  },
  {
   "cell_type": "markdown",
   "id": "5dbd06ea",
   "metadata": {},
   "source": [
    "But getting the chromosomes is not so easy:"
   ]
  },
  {
   "cell_type": "code",
   "execution_count": null,
   "id": "2945e7aa",
   "metadata": {},
   "outputs": [],
   "source": [
    "chromosomes_binary = chromosomes > threshold_otsu(chromosomes)\n",
    "skdemo.imshow_all(chromosomes, chromosomes_binary)"
   ]
  },
  {
   "cell_type": "markdown",
   "id": "c9768207",
   "metadata": {},
   "source": [
    "Let's try using an adaptive threshold:"
   ]
  },
  {
   "cell_type": "code",
   "execution_count": null,
   "id": "e4690592",
   "metadata": {},
   "outputs": [],
   "source": [
    "from skimage.filter import threshold_adaptive\n",
    "chromosomes_adapt = threshold_adaptive(chromosomes, block_size=51)\n",
    "# Question: how did I choose this block size?\n",
    "skdemo.imshow_all(chromosomes, chromosomes_adapt)"
   ]
  },
  {
   "cell_type": "markdown",
   "id": "fb2f9ed0",
   "metadata": {},
   "source": [
    "Not only is the uneven illumination a problem, but there seem to be some artifacts due to the illumination pattern!\n",
    "\n",
    "**Exercise:** Can you think of a way to fix this?\n",
    "\n",
    "(Hint: in addition to everything you've learned so far, check out [`skimage.morphology.remove_small_objects`](http://scikit-image.org/docs/dev/api/skimage.morphology.html#skimage.morphology.remove_small_objects))"
   ]
  },
  {
   "cell_type": "code",
   "execution_count": null,
   "id": "f8648d37",
   "metadata": {},
   "outputs": [],
   "source": [
    "from skimage.morphology import (opening, selem,\n",
    "                                remove_small_objects)\n",
    "d = selem.diamond(radius=4)\n",
    "chr0 = opening(chromosomes_adapt, d)\n",
    "chr1 = remove_small_objects(chr0.astype(bool), 256)\n",
    "images = [chromosomes, chromosomes_adapt, chr0, chr1]\n",
    "titles = ['original', 'adaptive threshold',\n",
    "          'opening', 'small objects removed']\n",
    "skdemo.imshow_all(*images, titles=titles, shape=(2, 2))"
   ]
  },
  {
   "cell_type": "markdown",
   "id": "8fd7e441",
   "metadata": {},
   "source": [
    "Now that we have the centromeres and the chromosomes, it's time to do the science: get the distribution of intensities in the red channel using both centromere and chromosome locations."
   ]
  },
  {
   "cell_type": "code",
   "execution_count": null,
   "id": "b3c705bf",
   "metadata": {},
   "outputs": [],
   "source": [
    "# Replace \"None\" below with the right expressions!\n",
    "centromere_intensities = protein[centromeres_binary]\n",
    "chromosome_intensities = protein[chr1]\n",
    "all_intensities = np.concatenate((centromere_intensities,\n",
    "                                  chromosome_intensities))\n",
    "minint = np.min(all_intensities)\n",
    "maxint = np.max(all_intensities)\n",
    "bins = np.linspace(minint, maxint, 100)\n",
    "plt.hist(centromere_intensities, bins=bins, color='blue',\n",
    "         alpha=0.5, label='centromeres')\n",
    "plt.hist(chromosome_intensities, bins=bins, color='orange',\n",
    "         alpha=0.5, label='chromosomes')\n",
    "plt.legend(loc='upper right')\n",
    "plt.show()"
   ]
  }
 ],
 "metadata": {
  "kernelspec": {
   "display_name": "Python 3",
   "language": "python",
   "name": "python3"
  }
 },
 "nbformat": 4,
 "nbformat_minor": 5
}
