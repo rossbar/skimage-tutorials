{
 "cells": [
  {
   "cell_type": "code",
   "execution_count": null,
   "id": "5a3aebde",
   "metadata": {},
   "outputs": [],
   "source": [
    "from __future__ import division, print_function\n",
    "%matplotlib inline"
   ]
  },
  {
   "cell_type": "markdown",
   "id": "61d7768a",
   "metadata": {},
   "source": [
    "# Quantifying spinal cord regeneration in zebrafish\n",
    "\n",
    "We want to quantify the amount of fluorescent cells in a wounded zebrafish embryo spinal column:\n",
    "\n",
    "<img src=\"images/zebrafish-spinal-cord-color.png\" alt=\"Zebrafish spinal cord\" style=\"width: 300px;\"/>\n",
    "\n",
    "The key steps are:\n",
    "\n",
    "- estimating the position and width of the cord\n",
    "- estimating the average fluorescence along the length of the cord"
   ]
  },
  {
   "cell_type": "code",
   "execution_count": null,
   "id": "03be4b26",
   "metadata": {},
   "outputs": [],
   "source": [
    "from matplotlib import pyplot as plt, cm\n",
    "from skimage import io\n",
    "image = io.imread('images/zebrafish-spinal-cord.png')"
   ]
  },
  {
   "cell_type": "markdown",
   "id": "ddc566ce",
   "metadata": {},
   "source": [
    "# SciPy to estimate coordinates\n",
    "\n",
    "First, we get just the top and bottom rows of pixels, and use a 1D gaussian filter to smooth the signal."
   ]
  },
  {
   "cell_type": "code",
   "execution_count": null,
   "id": "ff2c5247",
   "metadata": {},
   "outputs": [],
   "source": [
    "from scipy import ndimage as nd\n",
    "top, bottom = image[[0, -1], :]\n",
    "\n",
    "fig, (ax0, ax1) = plt.subplots(nrows=1, ncols=2, figsize=(8, 3))\n",
    "\n",
    "top_smooth = nd.gaussian_filter1d(top, sigma=20)\n",
    "ax0.plot(top, color='blue', lw=2)\n",
    "ax0.plot(top_smooth, color='orange', lw=2)\n",
    "ax0.set_title('top')\n",
    "\n",
    "bottom_smooth = nd.gaussian_filter1d(bottom, sigma=20)\n",
    "ax1.plot(bottom, color='blue', lw=2)\n",
    "ax1.plot(bottom_smooth, color='orange', lw=2)\n",
    "ax1.set_title('bottom')"
   ]
  },
  {
   "cell_type": "markdown",
   "id": "fae597d2",
   "metadata": {},
   "source": [
    "With smooth curves, we can get the mode (the position of the center) and width of the signal."
   ]
  },
  {
   "cell_type": "code",
   "execution_count": null,
   "id": "950f97d4",
   "metadata": {},
   "outputs": [],
   "source": [
    "top_mode = top_smooth.argmax()\n",
    "top_max = top_smooth[top_mode]\n",
    "top_width = (top_smooth > float(top_max) / 2).sum()\n",
    "\n",
    "bottom_mode = bottom_smooth.argmax()\n",
    "bottom_max = bottom_smooth[bottom_mode]\n",
    "bottom_width = (bottom_smooth > float(bottom_max) / 2).sum()\n",
    "\n",
    "width = max(bottom_width, top_width)\n",
    "\n",
    "print(top_mode, top_width, bottom_mode, bottom_width)"
   ]
  },
  {
   "cell_type": "markdown",
   "id": "f8b5d661",
   "metadata": {},
   "source": [
    "# scikit-image to trace the profile\n",
    "\n",
    "Now, use `measure.profile_line` to trace from (0, `top_mode`) to (-1, `bottom_mode`)."
   ]
  },
  {
   "cell_type": "code",
   "execution_count": null,
   "id": "1e05362c",
   "metadata": {},
   "outputs": [],
   "source": [
    "from skimage import measure\n",
    "trace = measure.profile_line(image, (0, top_mode),\n",
    "                             (image.shape[0] - 1, bottom_mode),\n",
    "                             linewidth=width,\n",
    "                             mode='reflect')"
   ]
  },
  {
   "cell_type": "markdown",
   "id": "18edf5cb",
   "metadata": {},
   "source": [
    "Finally, plot the trace."
   ]
  },
  {
   "cell_type": "code",
   "execution_count": null,
   "id": "48054719",
   "metadata": {},
   "outputs": [],
   "source": [
    "plt.plot(trace, color='black', lw=2)\n",
    "plt.xlabel('position along embryo')\n",
    "plt.ylabel('mean fluorescence intensity')"
   ]
  },
  {
   "cell_type": "markdown",
   "id": "753730f1",
   "metadata": {},
   "source": [
    "From this trace, we can compute various summary statistics (e.g. min/max, gap width, slope, etc), and plot these over time as the wound recovers."
   ]
  }
 ],
 "metadata": {
  "kernelspec": {
   "display_name": "Python 3",
   "language": "python",
   "name": "python3"
  }
 },
 "nbformat": 4,
 "nbformat_minor": 5
}
