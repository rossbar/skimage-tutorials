{
 "cells": [
  {
   "cell_type": "markdown",
   "id": "d126e7eb",
   "metadata": {},
   "source": [
    "from scipy import interpolate\n",
    "\n",
    "all_coords = np.indices((M, N)).reshape(2, -1).T\n",
    "all_vals = interpolate.griddata(coords, samples, all_coords, method='cubic')\n",
    "\n",
    "restored_image = all_vals.reshape((M, N))\n",
    "\n",
    "plt.figure(figsize=(8, 8))\n",
    "plt.imshow(restored_image, cmap='gray');"
   ]
  }
 ],
 "metadata": {},
 "nbformat": 4,
 "nbformat_minor": 5
}
