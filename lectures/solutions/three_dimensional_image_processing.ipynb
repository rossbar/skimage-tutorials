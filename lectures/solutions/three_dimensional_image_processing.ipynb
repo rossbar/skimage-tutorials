{
 "cells": [
  {
   "cell_type": "code",
   "execution_count": null,
   "id": "dd94a6dd",
   "metadata": {},
   "outputs": [],
   "source": [
    "%matplotlib inline"
   ]
  },
  {
   "cell_type": "code",
   "execution_count": null,
   "id": "b84ffd15",
   "metadata": {},
   "outputs": [],
   "source": [
    "from matplotlib import cm\n",
    "from matplotlib import pyplot as plt\n",
    "import numpy as np\n",
    "from scipy import ndimage as ndi\n",
    "from scipy import stats\n",
    "from skimage import exposure, feature, filters, io, measure, morphology, restoration"
   ]
  },
  {
   "cell_type": "code",
   "execution_count": null,
   "id": "c046dd00",
   "metadata": {},
   "outputs": [],
   "source": [
    "def display(im3d, cmap=\"gray\", figsize=(16, 14), step=2):\n",
    "    _, axes = plt.subplots(nrows=5, ncols=6, figsize=figsize)\n",
    "    \n",
    "    vmin = im3d.min()\n",
    "    vmax = im3d.max()\n",
    "    \n",
    "    for ax, image in zip(axes.flatten(), im3d[::step]):\n",
    "        ax.imshow(image, cmap=cmap, vmin=vmin, vmax=vmax)\n",
    "        ax.set_xticks([])\n",
    "        ax.set_yticks([])\n",
    "        \n",
    "# Display label matrices with the background value set to black.\n",
    "def get_cmap(labels, name=\"viridis\"):\n",
    "    cmap = cm.get_cmap(\"viridis\")\n",
    "    masked_labels = np.ma.masked_where(labels == 0, labels)\n",
    "    cmap.set_bad(color=\"black\")\n",
    "    \n",
    "    return masked_labels, cmap"
   ]
  },
  {
   "cell_type": "markdown",
   "id": "6d541a04",
   "metadata": {},
   "source": [
    "# Improving the segmentation"
   ]
  },
  {
   "cell_type": "code",
   "execution_count": null,
   "id": "37fc36f8",
   "metadata": {},
   "outputs": [],
   "source": [
    "data = io.imread(\"../../images/cells.tif\")\n",
    "\n",
    "original_spacing = (0.2900000, 0.0650000, 0.0650000)\n",
    "rescaled_spacing = tuple(np.multiply((1.0, 4.0, 4.0), original_spacing))\n",
    "spacing = tuple(np.divide(rescaled_spacing, rescaled_spacing[1]))"
   ]
  },
  {
   "cell_type": "code",
   "execution_count": null,
   "id": "632bf3dc",
   "metadata": {},
   "outputs": [],
   "source": [
    "vmin, vmax = stats.scoreatpercentile(data, (0.5, 99.5))\n",
    "\n",
    "rescaled = exposure.rescale_intensity(\n",
    "    data,\n",
    "    in_range=(vmin, vmax),\n",
    "    out_range=np.double\n",
    ")\n",
    "\n",
    "display(rescaled)"
   ]
  },
  {
   "cell_type": "code",
   "execution_count": null,
   "id": "0d09f7d5",
   "metadata": {},
   "outputs": [],
   "source": [
    "denoised = np.empty_like(rescaled)\n",
    "\n",
    "for index, plane in enumerate(rescaled):\n",
    "    denoised[index] = restoration.denoise_bilateral(\n",
    "        plane, \n",
    "        multichannel=False\n",
    "    )\n",
    "\n",
    "display(denoised)"
   ]
  },
  {
   "cell_type": "code",
   "execution_count": null,
   "id": "1e197122",
   "metadata": {},
   "outputs": [],
   "source": [
    "threshold = 0.9 * filters.threshold_li(denoised)\n",
    "\n",
    "binary = denoised >= threshold\n",
    "\n",
    "display(binary)"
   ]
  },
  {
   "cell_type": "code",
   "execution_count": null,
   "id": "7cff2902",
   "metadata": {},
   "outputs": [],
   "source": [
    "width = 20\n",
    "\n",
    "remove_holes = morphology.remove_small_holes(\n",
    "    binary, \n",
    "    area_threshold=np.product(np.divide(width, spacing))\n",
    ")\n",
    "\n",
    "remove_objects = morphology.remove_small_objects(\n",
    "    remove_holes, \n",
    "    min_size=np.product(np.divide(width, spacing))\n",
    ")\n",
    "\n",
    "display(remove_objects)"
   ]
  },
  {
   "cell_type": "code",
   "execution_count": null,
   "id": "ddb84d6b",
   "metadata": {},
   "outputs": [],
   "source": [
    "variance = [np.var(image) for _, image in enumerate(remove_objects)]\n",
    "\n",
    "idx = np.argmax(variance)\n",
    "\n",
    "seeded = np.zeros_like(remove_objects)\n",
    "\n",
    "seeded[idx-10:idx+10] = remove_objects[idx-10:idx+10]\n",
    "\n",
    "display(seeded)"
   ]
  },
  {
   "cell_type": "code",
   "execution_count": null,
   "id": "58d27b2c",
   "metadata": {},
   "outputs": [],
   "source": [
    "distance = ndi.distance_transform_edt(seeded)\n",
    "\n",
    "peak_local_max = feature.peak_local_max(\n",
    "    distance,\n",
    "    footprint=np.ones((15, 15, 15), dtype=np.bool),\n",
    "    indices=False,\n",
    "    labels=measure.label(seeded)\n",
    ")\n",
    "\n",
    "markers = measure.label(peak_local_max)\n",
    "\n",
    "labels = morphology.watershed(\n",
    "    -rescaled, \n",
    "    markers, \n",
    "    mask=remove_objects\n",
    ")\n",
    "\n",
    "masked_labels, cmap = get_cmap(labels)\n",
    "\n",
    "display(masked_labels, cmap=cmap)"
   ]
  },
  {
   "cell_type": "markdown",
   "id": "d7ea30dc",
   "metadata": {},
   "source": [
    "# Membrane segmentation"
   ]
  },
  {
   "cell_type": "code",
   "execution_count": null,
   "id": "773fc21b",
   "metadata": {},
   "outputs": [],
   "source": [
    "data = io.imread(\"../../images/cells_membrane.tif\")"
   ]
  },
  {
   "cell_type": "code",
   "execution_count": null,
   "id": "1c8f404a",
   "metadata": {},
   "outputs": [],
   "source": [
    "vmin, vmax = stats.scoreatpercentile(data, (0.5, 99.5))\n",
    "\n",
    "rescaled = exposure.rescale_intensity(\n",
    "    data,\n",
    "    in_range=(vmin, vmax),\n",
    "    out_range=np.float32\n",
    ").astype(np.float32)\n",
    "\n",
    "display(rescaled)"
   ]
  },
  {
   "cell_type": "code",
   "execution_count": null,
   "id": "f238fd74",
   "metadata": {},
   "outputs": [],
   "source": [
    "threshold = filters.threshold_li(rescaled)\n",
    "\n",
    "binary = rescaled >= threshold\n",
    "\n",
    "display(binary)"
   ]
  },
  {
   "cell_type": "code",
   "execution_count": null,
   "id": "39be38fb",
   "metadata": {},
   "outputs": [],
   "source": [
    "width = 40\n",
    "\n",
    "remove_objects = np.empty_like(binary)\n",
    "\n",
    "for plane, image in enumerate(binary):\n",
    "    remove_objects[plane] = morphology.remove_small_objects(\n",
    "        image, \n",
    "        min_size=width ** 2\n",
    "    )\n",
    "    \n",
    "display(remove_objects)"
   ]
  },
  {
   "cell_type": "code",
   "execution_count": null,
   "id": "17f988ce",
   "metadata": {},
   "outputs": [],
   "source": [
    "bottom = (labels.max() + 1)\n",
    "top = (labels.max() + 2)\n",
    "\n",
    "markers = labels.copy()\n",
    "markers[0] = bottom * np.ones_like(markers[0])\n",
    "markers[-1] = top * np.ones_like(markers[-1])\n",
    "\n",
    "membrane_labels = morphology.watershed(\n",
    "    rescaled, \n",
    "    markers=markers, \n",
    "    mask=np.logical_not(remove_objects)\n",
    ")\n",
    "\n",
    "membrane_labels[membrane_labels == bottom] = 0\n",
    "membrane_labels[membrane_labels == top] = 0"
   ]
  },
  {
   "cell_type": "code",
   "execution_count": null,
   "id": "6ca36736",
   "metadata": {},
   "outputs": [],
   "source": [
    "masked_labels, cmap = get_cmap(membrane_labels)\n",
    "\n",
    "display(masked_labels, cmap=cmap)"
   ]
  },
  {
   "cell_type": "code",
   "execution_count": null,
   "id": "911fc7d4",
   "metadata": {},
   "outputs": [],
   "source": []
  }
 ],
 "metadata": {
  "kernelspec": {
   "display_name": "Python 3",
   "language": "python",
   "name": "python3"
  }
 },
 "nbformat": 4,
 "nbformat_minor": 5
}
